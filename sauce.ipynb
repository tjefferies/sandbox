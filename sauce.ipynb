{
 "cells": [
  {
   "cell_type": "code",
   "execution_count": 8,
   "metadata": {
    "collapsed": false
   },
   "outputs": [
    {
     "data": {
      "text/html": [
       "<div>\n",
       "<style scoped>\n",
       "    .dataframe tbody tr th:only-of-type {\n",
       "        vertical-align: middle;\n",
       "    }\n",
       "\n",
       "    .dataframe tbody tr th {\n",
       "        vertical-align: top;\n",
       "    }\n",
       "\n",
       "    .dataframe thead th {\n",
       "        text-align: right;\n",
       "    }\n",
       "</style>\n",
       "<table border=\"1\" class=\"dataframe\">\n",
       "  <thead>\n",
       "    <tr style=\"text-align: right;\">\n",
       "      <th></th>\n",
       "      <th>E</th>\n",
       "      <th>L</th>\n",
       "      <th>Fr</th>\n",
       "      <th>To</th>\n",
       "      <th>P</th>\n",
       "      <th>PI</th>\n",
       "    </tr>\n",
       "  </thead>\n",
       "  <tbody>\n",
       "    <tr>\n",
       "      <th>0</th>\n",
       "      <td>E1</td>\n",
       "      <td>L1</td>\n",
       "      <td>FA1</td>\n",
       "      <td>TA7</td>\n",
       "      <td>P1</td>\n",
       "      <td>NaN</td>\n",
       "    </tr>\n",
       "    <tr>\n",
       "      <th>1</th>\n",
       "      <td>E1</td>\n",
       "      <td>L1</td>\n",
       "      <td>FA1</td>\n",
       "      <td>TA7</td>\n",
       "      <td>P2</td>\n",
       "      <td>Two Way P</td>\n",
       "    </tr>\n",
       "    <tr>\n",
       "      <th>2</th>\n",
       "      <td>E1</td>\n",
       "      <td>L2</td>\n",
       "      <td>FA8</td>\n",
       "      <td>TA23</td>\n",
       "      <td>P3</td>\n",
       "      <td>NaN</td>\n",
       "    </tr>\n",
       "    <tr>\n",
       "      <th>3</th>\n",
       "      <td>E1</td>\n",
       "      <td>L2</td>\n",
       "      <td>FA8</td>\n",
       "      <td>TA23</td>\n",
       "      <td>P4</td>\n",
       "      <td>One Way R</td>\n",
       "    </tr>\n",
       "  </tbody>\n",
       "</table>\n",
       "</div>"
      ],
      "text/plain": [
       "        E   L   Fr    To   P         PI\n",
       "0      E1  L1  FA1   TA7  P1        NaN\n",
       "1      E1  L1  FA1   TA7  P2  Two Way P\n",
       "2      E1  L2  FA8  TA23  P3        NaN\n",
       "3      E1  L2  FA8  TA23  P4  One Way R"
      ]
     },
     "execution_count": 8,
     "metadata": {},
     "output_type": "execute_result"
    }
   ],
   "source": [
    "import sys\n",
    "if sys.version_info[0] < 3: \n",
    "    from StringIO import StringIO\n",
    "else:\n",
    "    from io import StringIO\n",
    "\n",
    "import pandas as pd\n",
    "\n",
    "TESTDATA = StringIO(\"\"\"E;L;Fr;To;P;PI\n",
    "    E1;L1;FA1;TA7;P1;\n",
    "    E1;L1;FA1;TA7;P2;Two Way P\n",
    "    E1;L2;FA8;TA23;P3;\n",
    "    E1;L2;FA8;TA23;P4;One Way R\n",
    "    \"\"\")\n",
    "\n",
    "df = pd.read_csv(TESTDATA, sep=\";\")\n",
    "df.head()"
   ]
  },
  {
   "cell_type": "code",
   "execution_count": 9,
   "metadata": {
    "collapsed": true
   },
   "outputs": [],
   "source": [
    "# cus t\n",
    "df['key'] = df['E'] + df['L'] + '~~~' + df['Fr'] + '~' + df['To']"
   ]
  },
  {
   "cell_type": "code",
   "execution_count": 10,
   "metadata": {
    "collapsed": false
   },
   "outputs": [
    {
     "data": {
      "text/html": [
       "<div>\n",
       "<style scoped>\n",
       "    .dataframe tbody tr th:only-of-type {\n",
       "        vertical-align: middle;\n",
       "    }\n",
       "\n",
       "    .dataframe tbody tr th {\n",
       "        vertical-align: top;\n",
       "    }\n",
       "\n",
       "    .dataframe thead th {\n",
       "        text-align: right;\n",
       "    }\n",
       "</style>\n",
       "<table border=\"1\" class=\"dataframe\">\n",
       "  <thead>\n",
       "    <tr style=\"text-align: right;\">\n",
       "      <th></th>\n",
       "      <th>E</th>\n",
       "      <th>L</th>\n",
       "      <th>Fr</th>\n",
       "      <th>To</th>\n",
       "      <th>P</th>\n",
       "      <th>PI</th>\n",
       "      <th>key</th>\n",
       "    </tr>\n",
       "  </thead>\n",
       "  <tbody>\n",
       "    <tr>\n",
       "      <th>1</th>\n",
       "      <td>E1</td>\n",
       "      <td>L1</td>\n",
       "      <td>FA1</td>\n",
       "      <td>TA7</td>\n",
       "      <td>P2</td>\n",
       "      <td>Two Way P</td>\n",
       "      <td>E1L1~~~FA1~TA7</td>\n",
       "    </tr>\n",
       "    <tr>\n",
       "      <th>3</th>\n",
       "      <td>E1</td>\n",
       "      <td>L2</td>\n",
       "      <td>FA8</td>\n",
       "      <td>TA23</td>\n",
       "      <td>P4</td>\n",
       "      <td>One Way R</td>\n",
       "      <td>E1L2~~~FA8~TA23</td>\n",
       "    </tr>\n",
       "  </tbody>\n",
       "</table>\n",
       "</div>"
      ],
      "text/plain": [
       "        E   L   Fr    To   P         PI                  key\n",
       "1      E1  L1  FA1   TA7  P2  Two Way P       E1L1~~~FA1~TA7\n",
       "3      E1  L2  FA8  TA23  P4  One Way R      E1L2~~~FA8~TA23"
      ]
     },
     "execution_count": 10,
     "metadata": {},
     "output_type": "execute_result"
    }
   ],
   "source": [
    "# c route\n",
    "df2 = df[df.PI.notnull()]\n",
    "df2.head()"
   ]
  },
  {
   "cell_type": "code",
   "execution_count": 11,
   "metadata": {
    "collapsed": false
   },
   "outputs": [
    {
     "name": "stderr",
     "output_type": "stream",
     "text": [
      "/Users/travisjefferies/anaconda/lib/python3.5/site-packages/pandas/core/frame.py:3781: SettingWithCopyWarning: \n",
      "A value is trying to be set on a copy of a slice from a DataFrame\n",
      "\n",
      "See the caveats in the documentation: http://pandas.pydata.org/pandas-docs/stable/indexing.html#indexing-view-versus-copy\n",
      "  return super(DataFrame, self).rename(**kwargs)\n"
     ]
    },
    {
     "data": {
      "text/html": [
       "<div>\n",
       "<style scoped>\n",
       "    .dataframe tbody tr th:only-of-type {\n",
       "        vertical-align: middle;\n",
       "    }\n",
       "\n",
       "    .dataframe tbody tr th {\n",
       "        vertical-align: top;\n",
       "    }\n",
       "\n",
       "    .dataframe thead th {\n",
       "        text-align: right;\n",
       "    }\n",
       "</style>\n",
       "<table border=\"1\" class=\"dataframe\">\n",
       "  <thead>\n",
       "    <tr style=\"text-align: right;\">\n",
       "      <th></th>\n",
       "      <th>E</th>\n",
       "      <th>L</th>\n",
       "      <th>Fr</th>\n",
       "      <th>To</th>\n",
       "      <th>preferredP</th>\n",
       "      <th>PI</th>\n",
       "      <th>key</th>\n",
       "    </tr>\n",
       "  </thead>\n",
       "  <tbody>\n",
       "    <tr>\n",
       "      <th>1</th>\n",
       "      <td>E1</td>\n",
       "      <td>L1</td>\n",
       "      <td>FA1</td>\n",
       "      <td>TA7</td>\n",
       "      <td>P2</td>\n",
       "      <td>Two Way P</td>\n",
       "      <td>E1L1~~~FA1~TA7</td>\n",
       "    </tr>\n",
       "    <tr>\n",
       "      <th>3</th>\n",
       "      <td>E1</td>\n",
       "      <td>L2</td>\n",
       "      <td>FA8</td>\n",
       "      <td>TA23</td>\n",
       "      <td>P4</td>\n",
       "      <td>One Way R</td>\n",
       "      <td>E1L2~~~FA8~TA23</td>\n",
       "    </tr>\n",
       "  </tbody>\n",
       "</table>\n",
       "</div>"
      ],
      "text/plain": [
       "        E   L   Fr    To preferredP         PI                  key\n",
       "1      E1  L1  FA1   TA7         P2  Two Way P       E1L1~~~FA1~TA7\n",
       "3      E1  L2  FA8  TA23         P4  One Way R      E1L2~~~FA8~TA23"
      ]
     },
     "execution_count": 11,
     "metadata": {},
     "output_type": "execute_result"
    }
   ],
   "source": [
    "# cus t\n",
    "df2.rename(columns={'P':'preferredP'}, inplace=True)\n",
    "df2.head()"
   ]
  },
  {
   "cell_type": "code",
   "execution_count": 12,
   "metadata": {
    "collapsed": false
   },
   "outputs": [
    {
     "data": {
      "text/html": [
       "<div>\n",
       "<style scoped>\n",
       "    .dataframe tbody tr th:only-of-type {\n",
       "        vertical-align: middle;\n",
       "    }\n",
       "\n",
       "    .dataframe tbody tr th {\n",
       "        vertical-align: top;\n",
       "    }\n",
       "\n",
       "    .dataframe thead th {\n",
       "        text-align: right;\n",
       "    }\n",
       "</style>\n",
       "<table border=\"1\" class=\"dataframe\">\n",
       "  <thead>\n",
       "    <tr style=\"text-align: right;\">\n",
       "      <th></th>\n",
       "      <th>E</th>\n",
       "      <th>L</th>\n",
       "      <th>Fr</th>\n",
       "      <th>To</th>\n",
       "      <th>P</th>\n",
       "      <th>PI</th>\n",
       "      <th>key</th>\n",
       "    </tr>\n",
       "  </thead>\n",
       "  <tbody>\n",
       "    <tr>\n",
       "      <th>0</th>\n",
       "      <td>E1</td>\n",
       "      <td>L1</td>\n",
       "      <td>FA1</td>\n",
       "      <td>TA7</td>\n",
       "      <td>P1</td>\n",
       "      <td>NaN</td>\n",
       "      <td>E1L1~~~FA1~TA7</td>\n",
       "    </tr>\n",
       "    <tr>\n",
       "      <th>2</th>\n",
       "      <td>E1</td>\n",
       "      <td>L2</td>\n",
       "      <td>FA8</td>\n",
       "      <td>TA23</td>\n",
       "      <td>P3</td>\n",
       "      <td>NaN</td>\n",
       "      <td>E1L2~~~FA8~TA23</td>\n",
       "    </tr>\n",
       "  </tbody>\n",
       "</table>\n",
       "</div>"
      ],
      "text/plain": [
       "        E   L   Fr    To   P   PI                  key\n",
       "0      E1  L1  FA1   TA7  P1  NaN       E1L1~~~FA1~TA7\n",
       "2      E1  L2  FA8  TA23  P3  NaN      E1L2~~~FA8~TA23"
      ]
     },
     "execution_count": 12,
     "metadata": {},
     "output_type": "execute_result"
    }
   ],
   "source": [
    "# c route\n",
    "df3 = df[df.PI.isnull()]\n",
    "df3.head()"
   ]
  },
  {
   "cell_type": "code",
   "execution_count": 13,
   "metadata": {
    "collapsed": true
   },
   "outputs": [],
   "source": [
    "# r comb\n",
    "result = df2.merge(df3[['P', 'key']], on='key')"
   ]
  },
  {
   "cell_type": "code",
   "execution_count": 15,
   "metadata": {
    "collapsed": false
   },
   "outputs": [
    {
     "data": {
      "text/html": [
       "<div>\n",
       "<style scoped>\n",
       "    .dataframe tbody tr th:only-of-type {\n",
       "        vertical-align: middle;\n",
       "    }\n",
       "\n",
       "    .dataframe tbody tr th {\n",
       "        vertical-align: top;\n",
       "    }\n",
       "\n",
       "    .dataframe thead th {\n",
       "        text-align: right;\n",
       "    }\n",
       "</style>\n",
       "<table border=\"1\" class=\"dataframe\">\n",
       "  <thead>\n",
       "    <tr style=\"text-align: right;\">\n",
       "      <th></th>\n",
       "      <th>E</th>\n",
       "      <th>L</th>\n",
       "      <th>key</th>\n",
       "      <th>preferredP</th>\n",
       "      <th>P</th>\n",
       "      <th>PI</th>\n",
       "    </tr>\n",
       "  </thead>\n",
       "  <tbody>\n",
       "    <tr>\n",
       "      <th>0</th>\n",
       "      <td>E1</td>\n",
       "      <td>L1</td>\n",
       "      <td>E1L1~~~FA1~TA7</td>\n",
       "      <td>P2</td>\n",
       "      <td>P1</td>\n",
       "      <td>Two Way P</td>\n",
       "    </tr>\n",
       "    <tr>\n",
       "      <th>1</th>\n",
       "      <td>E1</td>\n",
       "      <td>L2</td>\n",
       "      <td>E1L2~~~FA8~TA23</td>\n",
       "      <td>P4</td>\n",
       "      <td>P3</td>\n",
       "      <td>One Way R</td>\n",
       "    </tr>\n",
       "  </tbody>\n",
       "</table>\n",
       "</div>"
      ],
      "text/plain": [
       "        E   L                  key preferredP   P         PI\n",
       "0      E1  L1       E1L1~~~FA1~TA7         P2  P1  Two Way P\n",
       "1      E1  L2      E1L2~~~FA8~TA23         P4  P3  One Way R"
      ]
     },
     "execution_count": 15,
     "metadata": {},
     "output_type": "execute_result"
    }
   ],
   "source": [
    "result = result[['E', 'L', 'key', 'preferredP', 'P', 'PI']]\n",
    "result"
   ]
  },
  {
   "cell_type": "code",
   "execution_count": 24,
   "metadata": {
    "collapsed": false
   },
   "outputs": [
    {
     "data": {
      "text/html": [
       "<div>\n",
       "<style scoped>\n",
       "    .dataframe tbody tr th:only-of-type {\n",
       "        vertical-align: middle;\n",
       "    }\n",
       "\n",
       "    .dataframe tbody tr th {\n",
       "        vertical-align: top;\n",
       "    }\n",
       "\n",
       "    .dataframe thead th {\n",
       "        text-align: right;\n",
       "    }\n",
       "</style>\n",
       "<table border=\"1\" class=\"dataframe\">\n",
       "  <thead>\n",
       "    <tr style=\"text-align: right;\">\n",
       "      <th></th>\n",
       "      <th>Fr</th>\n",
       "      <th>To</th>\n",
       "    </tr>\n",
       "  </thead>\n",
       "  <tbody>\n",
       "    <tr>\n",
       "      <th>0</th>\n",
       "      <td>FA1</td>\n",
       "      <td>TA7</td>\n",
       "    </tr>\n",
       "    <tr>\n",
       "      <th>1</th>\n",
       "      <td>FA8</td>\n",
       "      <td>TA23</td>\n",
       "    </tr>\n",
       "  </tbody>\n",
       "</table>\n",
       "</div>"
      ],
      "text/plain": [
       "    Fr    To\n",
       "0  FA1   TA7\n",
       "1  FA8  TA23"
      ]
     },
     "execution_count": 24,
     "metadata": {},
     "output_type": "execute_result"
    }
   ],
   "source": [
    "# cus t\n",
    "from_and_to = result['key'].str.split('~~~',expand=True)[1].str.split('~', expand=True)\n",
    "from_and_to.rename(columns={0: 'Fr', 1: 'To'}, inplace=True)\n",
    "from_and_to"
   ]
  },
  {
   "cell_type": "code",
   "execution_count": 27,
   "metadata": {
    "collapsed": false
   },
   "outputs": [
    {
     "data": {
      "text/html": [
       "<div>\n",
       "<style scoped>\n",
       "    .dataframe tbody tr th:only-of-type {\n",
       "        vertical-align: middle;\n",
       "    }\n",
       "\n",
       "    .dataframe tbody tr th {\n",
       "        vertical-align: top;\n",
       "    }\n",
       "\n",
       "    .dataframe thead th {\n",
       "        text-align: right;\n",
       "    }\n",
       "</style>\n",
       "<table border=\"1\" class=\"dataframe\">\n",
       "  <thead>\n",
       "    <tr style=\"text-align: right;\">\n",
       "      <th></th>\n",
       "      <th>E</th>\n",
       "      <th>L</th>\n",
       "      <th>preferredP</th>\n",
       "      <th>P</th>\n",
       "      <th>Fr</th>\n",
       "      <th>To</th>\n",
       "    </tr>\n",
       "  </thead>\n",
       "  <tbody>\n",
       "    <tr>\n",
       "      <th>0</th>\n",
       "      <td>E1</td>\n",
       "      <td>L1</td>\n",
       "      <td>P2</td>\n",
       "      <td>P1</td>\n",
       "      <td>FA1</td>\n",
       "      <td>TA7</td>\n",
       "    </tr>\n",
       "    <tr>\n",
       "      <th>1</th>\n",
       "      <td>E1</td>\n",
       "      <td>L2</td>\n",
       "      <td>P4</td>\n",
       "      <td>P3</td>\n",
       "      <td>FA8</td>\n",
       "      <td>TA23</td>\n",
       "    </tr>\n",
       "  </tbody>\n",
       "</table>\n",
       "</div>"
      ],
      "text/plain": [
       "        E   L preferredP   P   Fr    To\n",
       "0      E1  L1         P2  P1  FA1   TA7\n",
       "1      E1  L2         P4  P3  FA8  TA23"
      ]
     },
     "execution_count": 27,
     "metadata": {},
     "output_type": "execute_result"
    }
   ],
   "source": [
    "# r comb\n",
    "result[['E', 'L', 'preferredP', 'P']].merge(from_and_to, left_index=True, right_index=True)"
   ]
  }
 ],
 "metadata": {
  "anaconda-cloud": {},
  "kernelspec": {
   "display_name": "Python [default]",
   "language": "python",
   "name": "python3"
  },
  "language_info": {
   "codemirror_mode": {
    "name": "ipython",
    "version": 3
   },
   "file_extension": ".py",
   "mimetype": "text/x-python",
   "name": "python",
   "nbconvert_exporter": "python",
   "pygments_lexer": "ipython3",
   "version": "3.5.5"
  }
 },
 "nbformat": 4,
 "nbformat_minor": 2
}
